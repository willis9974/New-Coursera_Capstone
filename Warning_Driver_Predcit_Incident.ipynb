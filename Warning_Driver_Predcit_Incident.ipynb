{
    "cells": [
        {
            "metadata": {},
            "cell_type": "code",
            "source": "print(\"1.0 Introduction\")",
            "execution_count": 2,
            "outputs": [
                {
                    "output_type": "stream",
                    "text": "1.0 Introduction\n",
                    "name": "stdout"
                }
            ]
        },
        {
            "metadata": {},
            "cell_type": "code",
            "source": "print(\"Build a model to warn the driver in advance by predicting the reason for queue and if any accident ahead in the route, then it should analyse the data and alert the driver either to drive carefully to avoid accident or provide an alternate best route to the destination.\")",
            "execution_count": 3,
            "outputs": [
                {
                    "output_type": "stream",
                    "text": "Build a model to warn the driver in advance by predicting the reason for queue and if any accident ahead in the route, then it should analyse the data and alert the driver either to drive carefully to avoid accident or provide an alternate best route to the destination.\n",
                    "name": "stdout"
                }
            ]
        },
        {
            "metadata": {},
            "cell_type": "code",
            "source": "print (\"1.1 Data Description\")",
            "execution_count": 4,
            "outputs": [
                {
                    "output_type": "stream",
                    "text": "1.1 Data Description\n",
                    "name": "stdout"
                }
            ]
        },
        {
            "metadata": {},
            "cell_type": "code",
            "source": "print(\"To build the model we will use sample data set made available by open sources (i.e. govt open portal or some research groups) in this case we use Data_Collisions.csv file. We will have to first balance the data set to avoid creating a biased model. Some of the key data elements like Vehicle location , Weather Condition, Car Speed, Light Condition, Road Condition, Junction near the incident, No of People Involved in the incident and No of Vehicles Involved in the incident will be used for building the model.\")",
            "execution_count": 5,
            "outputs": [
                {
                    "output_type": "stream",
                    "text": "To build the model we will use sample data set made available by open sources (i.e. govt open portal or some research groups) in this case we use Data_Collisions.csv file. We will have to first balance the data set to avoid creating a biased model. Some of the key data elements like Vehicle location , Weather Condition, Car Speed, Light Condition, Road Condition, Junction near the incident, No of People Involved in the incident and No of Vehicles Involved in the incident will be used for building the model.\n",
                    "name": "stdout"
                }
            ]
        },
        {
            "metadata": {},
            "cell_type": "code",
            "source": "",
            "execution_count": null,
            "outputs": []
        }
    ],
    "metadata": {
        "kernelspec": {
            "name": "python3",
            "display_name": "Python 3.6",
            "language": "python"
        },
        "language_info": {
            "name": "python",
            "version": "3.6.9",
            "mimetype": "text/x-python",
            "codemirror_mode": {
                "name": "ipython",
                "version": 3
            },
            "pygments_lexer": "ipython3",
            "nbconvert_exporter": "python",
            "file_extension": ".py"
        }
    },
    "nbformat": 4,
    "nbformat_minor": 1
}